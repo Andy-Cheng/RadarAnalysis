{
 "cells": [
  {
   "cell_type": "code",
   "execution_count": 6,
   "metadata": {},
   "outputs": [],
   "source": [
    "import numpy as np\n",
    "from scipy.io import loadmat\n",
    "import os"
   ]
  },
  {
   "cell_type": "markdown",
   "metadata": {},
   "source": [
    "## radar to lidar transform (move radar to lidar) <=> lidar to radar porjection matrix"
   ]
  },
  {
   "cell_type": "code",
   "execution_count": null,
   "metadata": {},
   "outputs": [],
   "source": [
    "tr_rl_translation = np.array([-2.54, 0.3, 0.7]) # x, y, z (m)\n",
    "\n",
    "# bbox_zyx_radar =  bbox_zyx_lidar + tr_rl_translation\n",
    "# how to represent bbox in radar coordinate? add tr_rl_translation to the bbox center"
   ]
  },
  {
   "cell_type": "code",
   "execution_count": 10,
   "metadata": {},
   "outputs": [],
   "source": [
    "# physical valuses of each DEAR tensors' cell\n",
    "def load_physical_values():\n",
    "    temp_values = loadmat(os.path.join('/mnt/ssd1/kradar_dataset', 'resources', 'info_arr.mat'))\n",
    "    arr_range = temp_values['arrRange']\n",
    "    deg2rad = np.pi/180.\n",
    "    arr_azimuth = temp_values['arrAzimuth']*deg2rad\n",
    "    arr_elevation = temp_values['arrElevation']*deg2rad\n",
    "    arr_range = arr_range.flatten()\n",
    "    arr_azimuth = arr_azimuth.flatten()\n",
    "    arr_elevation = arr_elevation.flatten()\n",
    "    arr_doppler = loadmat(os.path.join('/mnt/ssd1/kradar_dataset', 'resources', 'arr_doppler.mat'))['arr_doppler']\n",
    "    arr_doppler = arr_doppler.flatten()\n",
    "    return arr_range, arr_azimuth, arr_elevation, arr_doppler"
   ]
  },
  {
   "cell_type": "code",
   "execution_count": 13,
   "metadata": {},
   "outputs": [],
   "source": [
    "arr_range, arr_azimuth, arr_elevation, arr_doppler = load_physical_values()\n",
    "rad2deg = 180./np.pi"
   ]
  },
  {
   "cell_type": "code",
   "execution_count": 17,
   "metadata": {},
   "outputs": [
    {
     "name": "stdout",
     "output_type": "stream",
     "text": [
      "0.0 118.037109375\n",
      "-53.0 53.0\n",
      "-18.0 18.0\n",
      "(107,)\n",
      "(37,)\n",
      "(256,)\n",
      "[0.         0.46289062]\n"
     ]
    }
   ],
   "source": [
    "print(arr_range[0], arr_range[-1])\n",
    "print(arr_azimuth[0]*rad2deg, arr_azimuth[-1]*rad2deg)\n",
    "print(arr_elevation[0]*rad2deg, arr_elevation[-1]*rad2deg)\n",
    "\n",
    "print(arr_azimuth.shape)\n",
    "print(arr_elevation.shape)\n",
    "print(arr_range.shape)\n",
    "\n",
    "print(arr_range[:2])"
   ]
  },
  {
   "cell_type": "code",
   "execution_count": 19,
   "metadata": {},
   "outputs": [],
   "source": [
    "radar_ear = np.flip(np.load('/mnt/ssd1/kradar_dataset/radar_tensor/11/radar_DEAR_D_downsampled_2/tesseract_00300.npy')).mean(axis=0)\n"
   ]
  },
  {
   "cell_type": "code",
   "execution_count": 20,
   "metadata": {},
   "outputs": [
    {
     "data": {
      "text/plain": [
       "(37, 107, 256)"
      ]
     },
     "execution_count": 20,
     "metadata": {},
     "output_type": "execute_result"
    }
   ],
   "source": [
    "radar_ear.shape"
   ]
  },
  {
   "cell_type": "code",
   "execution_count": 23,
   "metadata": {},
   "outputs": [],
   "source": [
    "# if cfar output is 1 at matrix index (e, a, r) = (0, 0, 50)\n",
    "coord_ear = (arr_elevation[0], arr_azimuth[0], arr_range[50])"
   ]
  },
  {
   "cell_type": "code",
   "execution_count": 24,
   "metadata": {},
   "outputs": [
    {
     "data": {
      "text/plain": [
       "(-0.3141592653589793, -0.9250245035569946, 23.14453125)"
      ]
     },
     "execution_count": 24,
     "metadata": {},
     "output_type": "execute_result"
    }
   ],
   "source": [
    "coord_ear"
   ]
  },
  {
   "cell_type": "code",
   "execution_count": 25,
   "metadata": {},
   "outputs": [],
   "source": [
    "def polar_to_cart(ear_coord):\n",
    "    # TODO: return a list of points in cartesian coordinate if cfar_output of that cell is 1\n",
    "    e, a, r = ear_coord\n",
    "    x = r * np.cos(a) * np.cos(e)\n",
    "    y = r * np.sin(a) * np.cos(e)\n",
    "    z = r * np.sin(e)\n",
    "    return x, y, z\n",
    "\n"
   ]
  },
  {
   "cell_type": "code",
   "execution_count": 26,
   "metadata": {},
   "outputs": [],
   "source": [
    "x, y, z = polar_to_cart(coord_ear)"
   ]
  },
  {
   "cell_type": "code",
   "execution_count": 27,
   "metadata": {},
   "outputs": [
    {
     "name": "stdout",
     "output_type": "stream",
     "text": [
      "13.247006206193223 -17.57937098790215 -7.152053483092044\n"
     ]
    }
   ],
   "source": [
    "print(x, y, z)"
   ]
  },
  {
   "cell_type": "code",
   "execution_count": null,
   "metadata": {},
   "outputs": [],
   "source": [
    "def apply_cfar(matrix, num_guard_cells, num_training_cells, threshold_factor):\n",
    "    # Get matrix dimensions\n",
    "    elevation_dim, azimuth_dim, range_dim = matrix.shape\n",
    "    \n",
    "    # Initialize an empty matrix to store CFAR output\n",
    "    cfar_output = np.zeros_like(matrix)\n",
    "    \n",
    "    # Loop through each cell in the 4D matrix\n",
    "    for r in range(range_dim):\n",
    "        for e in range(elevation_dim):\n",
    "            for a in range(azimuth_dim):\n",
    "                # Define the grid for training cells\n",
    "                training_cells = []\n",
    "                for tr in range(r-num_guard_cells-num_training_cells, r+num_guard_cells+num_training_cells+1):\n",
    "                    for te in range(e-num_guard_cells-num_training_cells, e+num_guard_cells+num_training_cells+1):\n",
    "                        for ta in range(a-num_guard_cells-num_training_cells, a+num_guard_cells+num_training_cells+1):\n",
    "                            if (abs(tr-r)>num_guard_cells and\n",
    "                                abs(te-e)>num_guard_cells and abs(ta-a)>num_guard_cells):\n",
    "                                if 0 <= tr < range_dim and 0 <= te < elevation_dim and 0 <= ta < azimuth_dim:\n",
    "                                    training_cells.append(matrix[te, ta, tr])\n",
    "                \n",
    "                # Calculate noise threshold based on training cells\n",
    "                threshold = np.mean(training_cells) * threshold_factor\n",
    "                # Test against the threshold\n",
    "                if matrix[te, ta, tr] > threshold:\n",
    "                    cfar_output[e, a, r] = 1\n",
    "    return cfar_output\n",
    "\n",
    "\n",
    "# Apply 4D CFAR detection\n",
    "num_guard_cells = 1\n",
    "num_training_cells = 2\n",
    "threshold_factor = 1.2\n",
    "\n",
    "\n",
    "cfar_output = apply_cfar(radar_ear, num_guard_cells, num_training_cells, threshold_factor)\n",
    "# cfar_output will contain ones at positions where peaks are detected and zeros elsewhere\n",
    "\n",
    "\n",
    "cfar_points = polar_to_cart(cfar_output)\n"
   ]
  },
  {
   "cell_type": "markdown",
   "metadata": {},
   "source": [
    "## TODO\n",
    "1. Test CFAR on one frame\n",
    "    - Read DEAR, take avg along doppler axis\n",
    "    - do CFAR on DEAR\n",
    "    - for each cell =1, save its corresponding (x,y,z)\n",
    "    - save the xyz in pcd format (format follows os2-64)\n",
    "    - visualize pcd on labeling tool\n",
    "\n",
    "2.  Test radar visibility on one frame (be careful about the coordinate transform!!!)\n",
    "    - load the pcd file\n",
    "    - for each bbox, check if any CRAR point falls inside\n",
    "    - add radar visibility attribute to the label json file\n",
    "\n",
    "3. Test on one sequence\n",
    "\n",
    "4. Run on all sequences\n",
    "\n",
    "    \n"
   ]
  },
  {
   "cell_type": "code",
   "execution_count": null,
   "metadata": {},
   "outputs": [],
   "source": []
  }
 ],
 "metadata": {
  "kernelspec": {
   "display_name": "cenrad",
   "language": "python",
   "name": "python3"
  },
  "language_info": {
   "codemirror_mode": {
    "name": "ipython",
    "version": 3
   },
   "file_extension": ".py",
   "mimetype": "text/x-python",
   "name": "python",
   "nbconvert_exporter": "python",
   "pygments_lexer": "ipython3",
   "version": "3.9.17"
  },
  "orig_nbformat": 4
 },
 "nbformat": 4,
 "nbformat_minor": 2
}
